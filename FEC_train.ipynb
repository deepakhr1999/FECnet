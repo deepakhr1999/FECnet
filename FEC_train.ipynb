{
 "cells": [
  {
   "cell_type": "code",
   "execution_count": 1,
   "metadata": {},
   "outputs": [],
   "source": [
    "# https://ai.google/tools/datasets/google-facial-expression/\n",
    "import imageio\n",
    "import os\n",
    "import pandas as pd\n",
    "from matplotlib import pyplot as plt\n",
    "from tqdm import tqdm_notebook as tqdm\n",
    "import time\n",
    "import numpy as np\n",
    "import random\n",
    "import hashlib\n",
    "from skimage.transform import resize\n",
    "import math"
   ]
  },
  {
   "cell_type": "code",
   "execution_count": 2,
   "metadata": {},
   "outputs": [],
   "source": [
    "import tensorflow as tf\n",
    "from tensorflow.keras.models import Sequential\n",
    "from tensorflow.keras.layers import * \n",
    "from tensorflow.keras.preprocessing import image\n",
    "from tensorflow.keras import backend as K"
   ]
  },
  {
   "cell_type": "code",
   "execution_count": 3,
   "metadata": {},
   "outputs": [
    {
     "data": {
      "text/html": [
       "<div>\n",
       "<style scoped>\n",
       "    .dataframe tbody tr th:only-of-type {\n",
       "        vertical-align: middle;\n",
       "    }\n",
       "\n",
       "    .dataframe tbody tr th {\n",
       "        vertical-align: top;\n",
       "    }\n",
       "\n",
       "    .dataframe thead th {\n",
       "        text-align: right;\n",
       "    }\n",
       "</style>\n",
       "<table border=\"1\" class=\"dataframe\">\n",
       "  <thead>\n",
       "    <tr style=\"text-align: right;\">\n",
       "      <th></th>\n",
       "      <th>Image1</th>\n",
       "      <th>Image2</th>\n",
       "      <th>Image3</th>\n",
       "    </tr>\n",
       "  </thead>\n",
       "  <tbody>\n",
       "    <tr>\n",
       "      <th>0</th>\n",
       "      <td>22d27258ff7e78577c811c5b8187446f.jpg</td>\n",
       "      <td>5806875441d55aa9c1d8a8998d160a82.jpg</td>\n",
       "      <td>bb3f152775a40c53daafab83a43f5254.jpg</td>\n",
       "    </tr>\n",
       "    <tr>\n",
       "      <th>1</th>\n",
       "      <td>e5a2d4733125b8aedb18c2d8040868e6.jpg</td>\n",
       "      <td>8ed9229eb118373590a069b774aeeeec.jpg</td>\n",
       "      <td>9d5910b05710e09d2ab12e4d4b224938.jpg</td>\n",
       "    </tr>\n",
       "    <tr>\n",
       "      <th>2</th>\n",
       "      <td>e5a2d4733125b8aedb18c2d8040868e6.jpg</td>\n",
       "      <td>53e165101543063e4b4946eb411ebecd.jpg</td>\n",
       "      <td>bad09c8ea230ee5919fcf794ea7f4f4b.jpg</td>\n",
       "    </tr>\n",
       "    <tr>\n",
       "      <th>3</th>\n",
       "      <td>e5a2d4733125b8aedb18c2d8040868e6.jpg</td>\n",
       "      <td>0d3252b4ad950e4e875fd2ace92c9641.jpg</td>\n",
       "      <td>9f99820796b92f6566a4639028ad0a00.jpg</td>\n",
       "    </tr>\n",
       "    <tr>\n",
       "      <th>4</th>\n",
       "      <td>e5a2d4733125b8aedb18c2d8040868e6.jpg</td>\n",
       "      <td>59d6ef6f3971c8a828fb67b9961dba23.jpg</td>\n",
       "      <td>08d4159f45a1607a0aa00bd6dc75c24f.jpg</td>\n",
       "    </tr>\n",
       "  </tbody>\n",
       "</table>\n",
       "</div>"
      ],
      "text/plain": [
       "                                 Image1                                Image2  \\\n",
       "0  22d27258ff7e78577c811c5b8187446f.jpg  5806875441d55aa9c1d8a8998d160a82.jpg   \n",
       "1  e5a2d4733125b8aedb18c2d8040868e6.jpg  8ed9229eb118373590a069b774aeeeec.jpg   \n",
       "2  e5a2d4733125b8aedb18c2d8040868e6.jpg  53e165101543063e4b4946eb411ebecd.jpg   \n",
       "3  e5a2d4733125b8aedb18c2d8040868e6.jpg  0d3252b4ad950e4e875fd2ace92c9641.jpg   \n",
       "4  e5a2d4733125b8aedb18c2d8040868e6.jpg  59d6ef6f3971c8a828fb67b9961dba23.jpg   \n",
       "\n",
       "                                 Image3  \n",
       "0  bb3f152775a40c53daafab83a43f5254.jpg  \n",
       "1  9d5910b05710e09d2ab12e4d4b224938.jpg  \n",
       "2  bad09c8ea230ee5919fcf794ea7f4f4b.jpg  \n",
       "3  9f99820796b92f6566a4639028ad0a00.jpg  \n",
       "4  08d4159f45a1607a0aa00bd6dc75c24f.jpg  "
      ]
     },
     "execution_count": 3,
     "metadata": {},
     "output_type": "execute_result"
    }
   ],
   "source": [
    "train_df = pd.read_csv('FEC_dataset/two_class_ready.csv')\n",
    "train_df.head()"
   ]
  },
  {
   "cell_type": "code",
   "execution_count": 14,
   "metadata": {},
   "outputs": [],
   "source": [
    "def TripletGen(data, root='FEC_dataset/formatted', batch_size=128, rescale=1./255, shape=(224,224)):\n",
    "    # yields anchor, positive and negative examples in batches of @batch_size\n",
    "    # output shape is (3*batch_size, 224, 224, 3)\n",
    "    n = len(data)\n",
    "    iterations = math.ceil(n/batch_size)\n",
    "    print(f\"Found {n} triplets in the dataset\")\n",
    "    # the main \"yielding\" loop\n",
    "    for i in range(iterations):\n",
    "        # use start and end as indices to work with\n",
    "        start, end = i*batch_size, min((i+1)*batch_size, n)\n",
    "        batch_size = (end - start)\n",
    "        bs = 3*batch_size\n",
    "        # yield X each time\n",
    "        X = np.empty((bs,224, 224, 3))\n",
    "        u, v = list(range(0,bs)), []\n",
    "        for j in range(0,bs,3):\n",
    "            # X[j] row is a triplet of size (224, 224, 3)\n",
    "            for t in range(1,4):\n",
    "                path = os.path.join(root, data[f'Image{t}'][start+j])\n",
    "                temp = image.load_img( path, target_size = shape )\n",
    "                X[j+t-1] = image.img_to_array(temp)*rescale\n",
    "                v.append(j+t-1)\n",
    "        yield X, tf.ones(X.shape, tf.int32)\n",
    "\n",
    "# imgs = TripletGen(train_df)\n",
    "# for i in range(5):\n",
    "#     print(next(imgs).shape)"
   ]
  },
  {
   "cell_type": "code",
   "execution_count": 15,
   "metadata": {},
   "outputs": [
    {
     "name": "stdout",
     "output_type": "stream",
     "text": [
      "4.724555320336759\n"
     ]
    }
   ],
   "source": [
    "def batch_tf_triplet_loss(inputs, labels=None, alpha=0.2):\n",
    "    sigma_dap = tf.math.reduce_sum(tf.norm(inputs[1::3]-inputs[0::3], axis=1))\n",
    "    sigma_dan = tf.math.reduce_sum(tf.norm(inputs[2::3]-inputs[0::3], axis=1)+alpha)\n",
    "    loss = sigma_dan - sigma_dap\n",
    "    return tf.maximum(loss,0)\n",
    "\n",
    "a, p, n = [1,2,3], [1,2, 4], [2,2,6]\n",
    "\n",
    "inputs = tf.constant([a,p,n,a,p,n], tf.float64)\n",
    "answer = batch_tf_triplet_loss(inputs)\n",
    "\n",
    "init = tf.global_variables_initializer()\n",
    "with tf.Session() as sess:\n",
    "    answer = sess.run(answer)\n",
    "    print(answer)"
   ]
  },
  {
   "cell_type": "code",
   "execution_count": 16,
   "metadata": {},
   "outputs": [
    {
     "name": "stdout",
     "output_type": "stream",
     "text": [
      "Model: \"sequential_3\"\n",
      "_________________________________________________________________\n",
      "Layer (type)                 Output Shape              Param #   \n",
      "=================================================================\n",
      "flatten_3 (Flatten)          (None, 150528)            0         \n",
      "_________________________________________________________________\n",
      "dense_9 (Dense)              (None, 1024)              154141696 \n",
      "_________________________________________________________________\n",
      "dense_10 (Dense)             (None, 1024)              1049600   \n",
      "_________________________________________________________________\n",
      "dense_11 (Dense)             (None, 16)                16400     \n",
      "=================================================================\n",
      "Total params: 155,207,696\n",
      "Trainable params: 155,207,696\n",
      "Non-trainable params: 0\n",
      "_________________________________________________________________\n"
     ]
    }
   ],
   "source": [
    "model = tf.keras.models.Sequential([\n",
    "    #first convolution\n",
    "#     Conv2D(16, (3,3), activation='relu', input_shape=(224,224,3)),\n",
    "#     MaxPool2D(2,2),\n",
    "#     #second\n",
    "#     Conv2D(32, (3,3), activation='relu'),\n",
    "#     MaxPool2D(2,2),\n",
    "#     #third\n",
    "#     Conv2D(64, (3,3), activation='relu'),\n",
    "#     MaxPool2D(2,2),\n",
    "#     #fourth\n",
    "#     Conv2D(64, (3,3), activation='relu'),\n",
    "#     MaxPool2D(2,2),\n",
    "#     #fifth\n",
    "#     Conv2D(64, (3,3), activation='relu'),\n",
    "#     MaxPool2D(2,2),\n",
    "    #hidden\n",
    "    Flatten(input_shape=(224,224,3)),\n",
    "    Dense(1024, activation='relu'),\n",
    "    Dense(1024, activation='relu'), #activity_regularizer=regularizers.l2(0.01)),\n",
    "    #Last layer\n",
    "    Dense(16)\n",
    "])\n",
    "from tensorflow.keras.optimizers import RMSprop\n",
    "# model.compile(loss=triplet_loss, optimizer=RMSprop(lr=0.001), metrics=['acc'])\n",
    "model.summary()"
   ]
  },
  {
   "cell_type": "code",
   "execution_count": 17,
   "metadata": {},
   "outputs": [],
   "source": [
    "model.compile(loss=batch_tf_triplet_loss, optimizer=RMSprop(lr=0.001))"
   ]
  },
  {
   "cell_type": "code",
   "execution_count": null,
   "metadata": {},
   "outputs": [
    {
     "name": "stdout",
     "output_type": "stream",
     "text": [
      "Epoch 1/20\n",
      "Found 136379 triplets in the dataset\n"
     ]
    }
   ],
   "source": [
    "train = TripletGen(train_df)\n",
    "\n",
    "history = model.fit_generator(train, epochs=20, steps_per_epoch=30, verbose=1)\n",
    "# with tf.Session() as sess:\n",
    "#     print(sess.run(batch_tf_triplet_loss(model.predict(next(train)))))"
   ]
  },
  {
   "cell_type": "code",
   "execution_count": null,
   "metadata": {},
   "outputs": [],
   "source": []
  }
 ],
 "metadata": {
  "kernelspec": {
   "display_name": "Python 3",
   "language": "python",
   "name": "python3"
  },
  "language_info": {
   "codemirror_mode": {
    "name": "ipython",
    "version": 3
   },
   "file_extension": ".py",
   "mimetype": "text/x-python",
   "name": "python",
   "nbconvert_exporter": "python",
   "pygments_lexer": "ipython3",
   "version": "3.7.3"
  }
 },
 "nbformat": 4,
 "nbformat_minor": 2
}
